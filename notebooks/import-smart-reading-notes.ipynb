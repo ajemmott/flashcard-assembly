{
 "cells": [
  {
   "cell_type": "code",
   "execution_count": 1,
   "metadata": {},
   "outputs": [],
   "source": [
    "import os\n",
    "import re\n",
    "\n",
    "import pandas as pd\n",
    "\n",
    "from anki.collection import Collection\n",
    "from jinja2 import Environment, FileSystemLoader\n",
    "from IPython.display import display, HTML\n",
    "from pprint import pprint"
   ]
  },
  {
   "cell_type": "code",
   "execution_count": 2,
   "metadata": {},
   "outputs": [],
   "source": [
    "path_to_collection = os.environ.get(\"PATH_TO_COLLECTION\")\n",
    "col = Collection(path_to_collection)"
   ]
  },
  {
   "cell_type": "code",
   "execution_count": 3,
   "metadata": {},
   "outputs": [],
   "source": [
    "# Jinja Setup\n",
    "loader = FileSystemLoader('templates')\n",
    "env = Environment(loader = loader)\n",
    "furigana_template = env.get_template('html-furigana.jinja')\n"
   ]
  },
  {
   "cell_type": "code",
   "execution_count": 4,
   "metadata": {},
   "outputs": [],
   "source": [
    "def make_note_from_row(row, note_model, note_array):\n",
    "\n",
    "    note = col.new_note(note_model)\n",
    "    \n",
    "    for (k,v) in row.items():\n",
    "        if k == 'is_new':\n",
    "            continue\n",
    "        \n",
    "        note[k]= str(v).strip()\n",
    "\n",
    "    row['is_new'] = not bool(note.duplicate_or_empty())\n",
    "    if row['is_new']:\n",
    "        note_array.append(note)\n",
    "        \n",
    "    return row"
   ]
  },
  {
   "cell_type": "code",
   "execution_count": 5,
   "metadata": {},
   "outputs": [],
   "source": [
    "def plain_text_to_html_kanji(match, target_word_pattern, template):\n",
    "\n",
    "    if re.match(target_word_pattern, match.group(0)):\n",
    "        output = template.render(group = match.groups(), is_target_word=True)\n",
    "        return output\n",
    "    \n",
    "    output = template.render(group= match.groups(), is_target_word=False)\n",
    "    return output"
   ]
  },
  {
   "cell_type": "code",
   "execution_count": 6,
   "metadata": {},
   "outputs": [],
   "source": [
    "def model_furigana_series_from_template(\n",
    "        row,\n",
    "        template,\n",
    "        kanji_text_pattern,\n",
    "        sentence_col_name,\n",
    "        base_col_name,\n",
    "        output_col_name):\n",
    "    \n",
    "    # If the row does not have a sample sentence yet, skip it.\n",
    "    if pd.isna(row[sentence_col_name]):\n",
    "        return row\n",
    "    \n",
    "    # Strip blank space from target word and sample sentence\n",
    "    sentence_string = row[sentence_col_name].strip()\n",
    "    target_word = row[base_col_name].strip()\n",
    "\n",
    "    # Get a list of the kanjis in the target word\n",
    "    kanji_pattern = r'[一-龯]+'\n",
    "    target_kanjis = re.findall(kanji_pattern, target_word)\n",
    "\n",
    "    target_word_pattern = ''\n",
    "    \n",
    "    if target_kanjis:\n",
    "        target_word_pattern = rf'([{''.join(target_kanjis)}]+)[（\\(]([ぁ-ん]+?)[）\\)]([ぁ-ん]*)'\n",
    "    \n",
    "    # replace all kanjis using the html template\n",
    "    \n",
    "\n",
    "    sentence_string = re.sub(\n",
    "        kanji_text_pattern,\n",
    "        lambda match: plain_text_to_html_kanji(match, target_word_pattern, template),\n",
    "        sentence_string\n",
    "\n",
    "    )\n",
    "    row[output_col_name] = re.sub(r'[\\n\\t]', '', sentence_string)\n",
    "    return row"
   ]
  },
  {
   "cell_type": "code",
   "execution_count": 7,
   "metadata": {},
   "outputs": [
    {
     "name": "stdout",
     "output_type": "stream",
     "text": [
      "\n",
      "New notes\n"
     ]
    },
    {
     "data": {
      "text/html": [
       "<div>\n",
       "<style scoped>\n",
       "    .dataframe tbody tr th:only-of-type {\n",
       "        vertical-align: middle;\n",
       "    }\n",
       "\n",
       "    .dataframe tbody tr th {\n",
       "        vertical-align: top;\n",
       "    }\n",
       "\n",
       "    .dataframe thead th {\n",
       "        text-align: right;\n",
       "    }\n",
       "</style>\n",
       "<table border=\"1\" class=\"dataframe\">\n",
       "  <thead>\n",
       "    <tr style=\"text-align: right;\">\n",
       "      <th></th>\n",
       "      <th>target-word</th>\n",
       "      <th>word-meaning</th>\n",
       "      <th>word-in-context</th>\n",
       "      <th>context-translation</th>\n",
       "      <th>generated-furigana</th>\n",
       "      <th>is_new</th>\n",
       "    </tr>\n",
       "  </thead>\n",
       "  <tbody>\n",
       "    <tr>\n",
       "      <th>0</th>\n",
       "      <td>馬（うま）</td>\n",
       "      <td>Horse</td>\n",
       "      <td>彼(かれ)は競馬(けいば)で速(はや)い馬(うま)に賭(か)けて、勝(か)ちました。</td>\n",
       "      <td>He bet on a fast horse at the horse race and ...</td>\n",
       "      <td>&lt;ruby class=\"kanji\"&gt;彼        &lt;rp&gt;(&lt;/rp...</td>\n",
       "      <td>True</td>\n",
       "    </tr>\n",
       "    <tr>\n",
       "      <th>1</th>\n",
       "      <td>馬力（ばりき）</td>\n",
       "      <td>Horsepower</td>\n",
       "      <td>この車(くるま)は500馬力(ばりき)のエンジンを搭載(とうさい)しています。</td>\n",
       "      <td>This car is equipped with a 500-horsepower en...</td>\n",
       "      <td>この        &lt;ruby class=\"kanji\"&gt;車        &lt;rp&gt;(&lt;/...</td>\n",
       "      <td>True</td>\n",
       "    </tr>\n",
       "    <tr>\n",
       "      <th>2</th>\n",
       "      <td>馬車（ばしゃ）</td>\n",
       "      <td>Carriage</td>\n",
       "      <td>観光客(かんこうきゃく)は街(まち)を馬車(ばしゃ)でゆっくりと回(まわ)りました。</td>\n",
       "      <td>The tourists slowly toured the city by carria...</td>\n",
       "      <td>&lt;ruby class=\"kanji\"&gt;観光客        &lt;rp&gt;(&lt;/...</td>\n",
       "      <td>True</td>\n",
       "    </tr>\n",
       "    <tr>\n",
       "      <th>3</th>\n",
       "      <td>鳥（とり）</td>\n",
       "      <td>Bird</td>\n",
       "      <td>朝(あさ)になると、庭(にわ)で美(うつく)しい鳥(とり)の声(こえ)が聞(き)こえます。</td>\n",
       "      <td>In the morning, I can hear the beautiful soun...</td>\n",
       "      <td>&lt;ruby class=\"kanji\"&gt;朝        &lt;rp&gt;(&lt;/rp...</td>\n",
       "      <td>True</td>\n",
       "    </tr>\n",
       "    <tr>\n",
       "      <th>4</th>\n",
       "      <td>焼き鳥（やきとり）</td>\n",
       "      <td>Grilled chicken skewers</td>\n",
       "      <td>仕事(しごと)帰(がえ)りに、焼(や)き鳥(とり)を食(た)べに行(い)きませんか？</td>\n",
       "      <td>Shall we go eat grilled chicken skewers after...</td>\n",
       "      <td>&lt;ruby class=\"kanji\"&gt;仕事        &lt;rp&gt;(&lt;/r...</td>\n",
       "      <td>True</td>\n",
       "    </tr>\n",
       "    <tr>\n",
       "      <th>5</th>\n",
       "      <td>白鳥（はくちょう）</td>\n",
       "      <td>Swan</td>\n",
       "      <td>湖(みずうみ)には白鳥(はくちょう)が優雅(ゆうが)に泳(およ)いでいました。</td>\n",
       "      <td>Swans were swimming gracefully on the lake.</td>\n",
       "      <td>&lt;ruby class=\"kanji\"&gt;湖        &lt;rp&gt;(&lt;/rp...</td>\n",
       "      <td>True</td>\n",
       "    </tr>\n",
       "    <tr>\n",
       "      <th>6</th>\n",
       "      <td>野鳥（やちょう）</td>\n",
       "      <td>Wild bird</td>\n",
       "      <td>彼(かれ)は趣味(しゅみ)として野鳥(やちょう)の観察(かんさつ)をしています。</td>\n",
       "      <td>He observes wild birds as a hobby.</td>\n",
       "      <td>&lt;ruby class=\"kanji\"&gt;彼        &lt;rp&gt;(&lt;/rp...</td>\n",
       "      <td>True</td>\n",
       "    </tr>\n",
       "  </tbody>\n",
       "</table>\n",
       "</div>"
      ],
      "text/plain": [
       "            target-word               word-meaning  \\\n",
       "0   馬（うま）                             Horse          \n",
       "1     馬力（ばりき）                         Horsepower     \n",
       "2     馬車（ばしゃ）                         Carriage       \n",
       "3   鳥（とり）                             Bird           \n",
       "4       焼き鳥（やきとり）         Grilled chicken skewers    \n",
       "5       白鳥（はくちょう）                     Swan           \n",
       "6      野鳥（やちょう）                       Wild bird      \n",
       "\n",
       "                                   word-in-context  \\\n",
       "0      彼(かれ)は競馬(けいば)で速(はや)い馬(うま)に賭(か)けて、勝(か)ちました。    \n",
       "1         この車(くるま)は500馬力(ばりき)のエンジンを搭載(とうさい)しています。    \n",
       "2      観光客(かんこうきゃく)は街(まち)を馬車(ばしゃ)でゆっくりと回(まわ)りました。    \n",
       "3   朝(あさ)になると、庭(にわ)で美(うつく)しい鳥(とり)の声(こえ)が聞(き)こえます。    \n",
       "4      仕事(しごと)帰(がえ)りに、焼(や)き鳥(とり)を食(た)べに行(い)きませんか？    \n",
       "5         湖(みずうみ)には白鳥(はくちょう)が優雅(ゆうが)に泳(およ)いでいました。    \n",
       "6        彼(かれ)は趣味(しゅみ)として野鳥(やちょう)の観察(かんさつ)をしています。    \n",
       "\n",
       "                                 context-translation  \\\n",
       "0   He bet on a fast horse at the horse race and ...   \n",
       "1   This car is equipped with a 500-horsepower en...   \n",
       "2   The tourists slowly toured the city by carria...   \n",
       "3   In the morning, I can hear the beautiful soun...   \n",
       "4   Shall we go eat grilled chicken skewers after...   \n",
       "5       Swans were swimming gracefully on the lake.    \n",
       "6                He observes wild birds as a hobby.    \n",
       "\n",
       "                                  generated-furigana  is_new  \n",
       "0          <ruby class=\"kanji\">彼        <rp>(</rp...    True  \n",
       "1  この        <ruby class=\"kanji\">車        <rp>(</...    True  \n",
       "2          <ruby class=\"kanji\">観光客        <rp>(</...    True  \n",
       "3          <ruby class=\"kanji\">朝        <rp>(</rp...    True  \n",
       "4          <ruby class=\"kanji\">仕事        <rp>(</r...    True  \n",
       "5          <ruby class=\"kanji\">湖        <rp>(</rp...    True  \n",
       "6          <ruby class=\"kanji\">彼        <rp>(</rp...    True  "
      ]
     },
     "metadata": {},
     "output_type": "display_data"
    },
    {
     "name": "stdout",
     "output_type": "stream",
     "text": [
      "\n",
      "Duplicate or empty notes\n"
     ]
    },
    {
     "data": {
      "text/html": [
       "<div>\n",
       "<style scoped>\n",
       "    .dataframe tbody tr th:only-of-type {\n",
       "        vertical-align: middle;\n",
       "    }\n",
       "\n",
       "    .dataframe tbody tr th {\n",
       "        vertical-align: top;\n",
       "    }\n",
       "\n",
       "    .dataframe thead th {\n",
       "        text-align: right;\n",
       "    }\n",
       "</style>\n",
       "<table border=\"1\" class=\"dataframe\">\n",
       "  <thead>\n",
       "    <tr style=\"text-align: right;\">\n",
       "      <th></th>\n",
       "      <th>target-word</th>\n",
       "      <th>word-meaning</th>\n",
       "      <th>word-in-context</th>\n",
       "      <th>context-translation</th>\n",
       "      <th>generated-furigana</th>\n",
       "      <th>is_new</th>\n",
       "    </tr>\n",
       "  </thead>\n",
       "  <tbody>\n",
       "  </tbody>\n",
       "</table>\n",
       "</div>"
      ],
      "text/plain": [
       "Empty DataFrame\n",
       "Columns: [target-word, word-meaning, word-in-context, context-translation, generated-furigana, is_new]\n",
       "Index: []"
      ]
     },
     "metadata": {},
     "output_type": "display_data"
    }
   ],
   "source": [
    "# Get reading deck references\n",
    "reading_deck_id = int(os.environ.get(\"READING_DECK_ID\"))\n",
    "reading_model_id = os.environ.get(\"READING_MODEL_ID\")\n",
    "reading_model = col.models.get(reading_model_id)\n",
    "reading_cols = [field['name'] for field in reading_model['flds']]\n",
    "\n",
    "# Read clipboard data\n",
    "reading_data = pd.read_clipboard(\n",
    "    sep='|',\n",
    "    usecols=[i for i in range(1,5)],  # FIXME: bad practice, column numbers are hardcoded\n",
    "    skiprows=2,\n",
    "    names=reading_cols[:-1])\n",
    "\n",
    "# Hard fix to match the prompt output with the desired input\n",
    "# TODO: Fix prompt output formatting\n",
    "# reading_data[['word','reading']] = reading_data[['reading','word']]\n",
    "\n",
    "# Setting up words that use kana alone\n",
    "# simple_word_locator = reading_data.loc[:,'word'].str.isspace()\n",
    "# reading_data.loc[simple_word_locator, 'word'] = reading_data.loc[simple_word_locator, 'reading']\n",
    "# reading_data.loc[simple_word_locator, 'reading'] = ''\n",
    "# display(reading_data)\n",
    "# Creating and formating new anki notes\n",
    "new_notes_in_clipboard_data = []\n",
    "kanji_text_pattern = r'([一-龯々]+)[（\\(]([ぁ-ん]+)[）\\)]*([ぁ-ん]*)'\n",
    "\n",
    "reading_data = (\n",
    "    reading_data\n",
    "        .apply(\n",
    "            model_furigana_series_from_template, \n",
    "            axis='columns',\n",
    "            template=furigana_template,\n",
    "            kanji_text_pattern= kanji_text_pattern,\n",
    "            sentence_col_name='word-in-context',\n",
    "            base_col_name='target-word',\n",
    "            output_col_name='generated-furigana')\n",
    "        .apply(\n",
    "            make_note_from_row,\n",
    "            axis='columns',\n",
    "            note_model=reading_model,\n",
    "            note_array=new_notes_in_clipboard_data)\n",
    "        )\n",
    "\n",
    "# TODO: this Breaks when clipboard is empty\n",
    "    \n",
    "print('\\nNew notes')\n",
    "display(reading_data.loc[reading_data['is_new']])\n",
    "\n",
    "print('\\nDuplicate or empty notes')\n",
    "display(reading_data.loc[~reading_data['is_new']])\n"
   ]
  },
  {
   "cell_type": "code",
   "execution_count": 8,
   "metadata": {},
   "outputs": [],
   "source": [
    "input_ok = input(\"Are new inputs ok?\")"
   ]
  },
  {
   "cell_type": "code",
   "execution_count": 9,
   "metadata": {},
   "outputs": [],
   "source": [
    "if input_ok:\n",
    "    for note in new_notes_in_clipboard_data:\n",
    "        \n",
    "        col.add_note(note, reading_deck_id)"
   ]
  },
  {
   "cell_type": "code",
   "execution_count": 10,
   "metadata": {},
   "outputs": [
    {
     "data": {
      "text/plain": [
       "' 彼(かれ)は趣味(しゅみ)として野鳥(やちょう)の観察(かんさつ)をしています。 '"
      ]
     },
     "metadata": {},
     "output_type": "display_data"
    },
    {
     "data": {
      "text/plain": [
       "' He observes wild birds as a hobby. '"
      ]
     },
     "metadata": {},
     "output_type": "display_data"
    }
   ],
   "source": [
    "i = 6 \n",
    "display(reading_data['word-in-context'].iloc[i])\n",
    "display(reading_data['context-translation'].iloc[i])"
   ]
  },
  {
   "cell_type": "code",
   "execution_count": 11,
   "metadata": {},
   "outputs": [
    {
     "data": {
      "text/html": [
       "\n",
       "     <style>\n",
       "     .target_kanji {\n",
       "        color: orange;\n",
       "     }\n",
       "\n",
       "     .target_furigana {\n",
       "        color: cyan;\n",
       "     }\n",
       "\n",
       "     .target_okurigana {\n",
       "        color: violet;\n",
       "     }\n",
       "     \n",
       "     </style><h1>        <ruby class=\"kanji\">彼        <rp>(</rp>        <rt class=\"furigana\">かれ</rt>        <rp>)</rp>    </ruby>    <span class=\"okurigana\">        は    </span>            <ruby class=\"kanji\">趣味        <rp>(</rp>        <rt class=\"furigana\">しゅみ</rt>        <rp>)</rp>    </ruby>    <span class=\"okurigana\">        として    </span>            <ruby class=\"target_kanji\">野鳥        <rp>(</rp>        <rt class=\"target_furigana\">やちょう</rt>        <rp>)</rp>    </ruby>    <span class=\"target_okurigana\">        の    </span>            <ruby class=\"kanji\">観察        <rp>(</rp>        <rt class=\"furigana\">かんさつ</rt>        <rp>)</rp>    </ruby>    <span class=\"okurigana\">        をしています    </span>    。</h1>"
      ],
      "text/plain": [
       "<IPython.core.display.HTML object>"
      ]
     },
     "execution_count": 11,
     "metadata": {},
     "output_type": "execute_result"
    }
   ],
   "source": [
    "HTML(\"\"\"\n",
    "     <style>\n",
    "     .target_kanji {\n",
    "        color: orange;\n",
    "     }\n",
    "\n",
    "     .target_furigana {\n",
    "        color: cyan;\n",
    "     }\n",
    "\n",
    "     .target_okurigana {\n",
    "        color: violet;\n",
    "     }\n",
    "     \n",
    "     </style>\"\"\" +'<h1>'+reading_data['generated-furigana'].iloc[i]+'</h1>')"
   ]
  },
  {
   "cell_type": "code",
   "execution_count": null,
   "metadata": {},
   "outputs": [],
   "source": []
  }
 ],
 "metadata": {
  "kernelspec": {
   "display_name": "anki-scripting",
   "language": "python",
   "name": "python3"
  },
  "language_info": {
   "codemirror_mode": {
    "name": "ipython",
    "version": 3
   },
   "file_extension": ".py",
   "mimetype": "text/x-python",
   "name": "python",
   "nbconvert_exporter": "python",
   "pygments_lexer": "ipython3",
   "version": "3.13.0"
  }
 },
 "nbformat": 4,
 "nbformat_minor": 2
}
